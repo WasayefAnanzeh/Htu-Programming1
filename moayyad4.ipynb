{
  "nbformat": 4,
  "nbformat_minor": 0,
  "metadata": {
    "colab": {
      "name": "moayyad.ipynb",
      "provenance": [],
      "include_colab_link": true
    },
    "kernelspec": {
      "name": "python3",
      "display_name": "Python 3"
    }
  },
  "cells": [
    {
      "cell_type": "markdown",
      "metadata": {
        "id": "view-in-github",
        "colab_type": "text"
      },
      "source": [
        "<a href=\"https://colab.research.google.com/github/WasayefAnanzeh/Htu-Programming1/blob/master/moayyad4.ipynb\" target=\"_parent\"><img src=\"https://colab.research.google.com/assets/colab-badge.svg\" alt=\"Open In Colab\"/></a>"
      ]
    },
    {
      "cell_type": "code",
      "metadata": {
        "id": "NNZpz1say0wO",
        "colab_type": "code",
        "colab": {}
      },
      "source": [
        "import pandas as pd\n",
        "\n",
        "df = pd.read_csv('train.csv')\n",
        "\n",
        "df = df[df['Neighborhood'] == 'OldTown']\n",
        "\n",
        "print (df['SalePrice'].mean())\n",
        "print (df['SalePrice'].median())\n",
        "\n",
        "df.groupby(by=['SaleCondition'])['SalePrice'].mean()\n",
        "df.groupby(by=['SaleCondition'])['SalePrice'].median()"
      ],
      "execution_count": null,
      "outputs": []
    }
  ]
}