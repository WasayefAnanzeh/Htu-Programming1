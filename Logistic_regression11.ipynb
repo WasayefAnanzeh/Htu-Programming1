{
  "nbformat": 4,
  "nbformat_minor": 0,
  "metadata": {
    "colab": {
      "name": "Logistic regression.ipynb",
      "provenance": [],
      "toc_visible": true,
      "include_colab_link": true
    },
    "kernelspec": {
      "name": "python3",
      "display_name": "Python 3"
    }
  },
  "cells": [
    {
      "cell_type": "markdown",
      "metadata": {
        "id": "view-in-github",
        "colab_type": "text"
      },
      "source": [
        "<a href=\"https://colab.research.google.com/github/WasayefAnanzeh/Htu-Programming1/blob/master/Logistic_regression11.ipynb\" target=\"_parent\"><img src=\"https://colab.research.google.com/assets/colab-badge.svg\" alt=\"Open In Colab\"/></a>"
      ]
    },
    {
      "cell_type": "markdown",
      "metadata": {
        "id": "BWGQF3wQzBVr",
        "colab_type": "text"
      },
      "source": [
        "# **Logistic Regression**"
      ]
    },
    {
      "cell_type": "code",
      "metadata": {
        "id": "rIvI97cpzHxT",
        "colab_type": "code",
        "colab": {}
      },
      "source": [
        "import pandas as pd\n",
        "import math\n",
        "from sklearn.linear_model import LogisticRegression\n",
        "from sklearn.metrics import mean_squared_error"
      ],
      "execution_count": null,
      "outputs": []
    },
    {
      "cell_type": "code",
      "metadata": {
        "id": "BV0JpfhazhXu",
        "colab_type": "code",
        "colab": {
          "base_uri": "https://localhost:8080/",
          "height": 34
        },
        "outputId": "f1765ebc-99cc-4cbc-a7f7-af9f6201dd3f"
      },
      "source": [
        "df = pd.read_csv('povrty.csv', sep='\\t') #Reads csv file and divides it into seperate columns\n",
        "print('Poverty Pct Median:',(df['PovPct'].median())) #Returns the median value of the PovPct column"
      ],
      "execution_count": null,
      "outputs": [
        {
          "output_type": "stream",
          "text": [
            "Poverty Pct Median: 12.2\n"
          ],
          "name": "stdout"
        }
      ]
    },
    {
      "cell_type": "code",
      "metadata": {
        "id": "tLqKuCTd0UAQ",
        "colab_type": "code",
        "colab": {}
      },
      "source": [
        "def is_poor(x):\n",
        "  if x >= df['PovPct'].median():\n",
        "    return 1\n",
        "  return 0"
      ],
      "execution_count": null,
      "outputs": []
    },
    {
      "cell_type": "code",
      "metadata": {
        "id": "mB62etfu3AmG",
        "colab_type": "code",
        "colab": {}
      },
      "source": [
        "df['is_pov'] = df['PovPct'].apply(is_poor)"
      ],
      "execution_count": null,
      "outputs": []
    },
    {
      "cell_type": "code",
      "metadata": {
        "id": "6BZgVd2K31uf",
        "colab_type": "code",
        "colab": {}
      },
      "source": [
        "x = df[['ViolCrime']]\n",
        "y = df['is_pov']"
      ],
      "execution_count": null,
      "outputs": []
    },
    {
      "cell_type": "code",
      "metadata": {
        "id": "yzwPgHVt5NEo",
        "colab_type": "code",
        "colab": {
          "base_uri": "https://localhost:8080/",
          "height": 221
        },
        "outputId": "420d2189-ae79-469c-9aea-5a7167142f25"
      },
      "source": [
        "Log_R = LogisticRegression()\n",
        "Log_R.fit(x,y)\n",
        "Poverty_prediction = Log_R.predict(x)\n",
        "print('Accuracy is:',Accuracy_score(Poverty_prediction, y))\n",
        "print(df.head(5))"
      ],
      "execution_count": null,
      "outputs": [
        {
          "output_type": "error",
          "ename": "NameError",
          "evalue": "ignored",
          "traceback": [
            "\u001b[0;31m---------------------------------------------------------------------------\u001b[0m",
            "\u001b[0;31mNameError\u001b[0m                                 Traceback (most recent call last)",
            "\u001b[0;32m<ipython-input-6-0429efb8dda1>\u001b[0m in \u001b[0;36m<module>\u001b[0;34m()\u001b[0m\n\u001b[1;32m      2\u001b[0m \u001b[0mLog_R\u001b[0m\u001b[0;34m.\u001b[0m\u001b[0mfit\u001b[0m\u001b[0;34m(\u001b[0m\u001b[0mx\u001b[0m\u001b[0;34m,\u001b[0m\u001b[0my\u001b[0m\u001b[0;34m)\u001b[0m\u001b[0;34m\u001b[0m\u001b[0;34m\u001b[0m\u001b[0m\n\u001b[1;32m      3\u001b[0m \u001b[0mPoverty_prediction\u001b[0m \u001b[0;34m=\u001b[0m \u001b[0mLog_R\u001b[0m\u001b[0;34m.\u001b[0m\u001b[0mpredict\u001b[0m\u001b[0;34m(\u001b[0m\u001b[0mx\u001b[0m\u001b[0;34m)\u001b[0m\u001b[0;34m\u001b[0m\u001b[0;34m\u001b[0m\u001b[0m\n\u001b[0;32m----> 4\u001b[0;31m \u001b[0mprint\u001b[0m\u001b[0;34m(\u001b[0m\u001b[0;34m'Accuracy is:'\u001b[0m\u001b[0;34m,\u001b[0m\u001b[0mAccuracy_score\u001b[0m\u001b[0;34m(\u001b[0m\u001b[0mPoverty_prediction\u001b[0m\u001b[0;34m,\u001b[0m \u001b[0my\u001b[0m\u001b[0;34m)\u001b[0m\u001b[0;34m)\u001b[0m\u001b[0;34m\u001b[0m\u001b[0;34m\u001b[0m\u001b[0m\n\u001b[0m\u001b[1;32m      5\u001b[0m \u001b[0mprint\u001b[0m\u001b[0;34m(\u001b[0m\u001b[0mdf\u001b[0m\u001b[0;34m.\u001b[0m\u001b[0mhead\u001b[0m\u001b[0;34m(\u001b[0m\u001b[0;36m5\u001b[0m\u001b[0;34m)\u001b[0m\u001b[0;34m)\u001b[0m\u001b[0;34m\u001b[0m\u001b[0;34m\u001b[0m\u001b[0m\n",
            "\u001b[0;31mNameError\u001b[0m: name 'Accuracy_score' is not defined"
          ]
        }
      ]
    },
    {
      "cell_type": "markdown",
      "metadata": {
        "id": "E8VeCQLE6ceg",
        "colab_type": "text"
      },
      "source": [
        "**Diabetes Data Set**"
      ]
    },
    {
      "cell_type": "markdown",
      "metadata": {
        "id": "Kx1K5sAK-_GL",
        "colab_type": "text"
      },
      "source": [
        "The factors contributing to diagnosing a patient with diabetes are:\n",
        "- BMI > 25\n",
        "- Age > 40 \n",
        "- Glucose levels > 126 mg/dL"
      ]
    },
    {
      "cell_type": "code",
      "metadata": {
        "id": "6y2i8rmz6h76",
        "colab_type": "code",
        "colab": {}
      },
      "source": [
        "df = pd.read_csv('diabetes.csv')\n",
        "print(df.columns)\n",
        "print('BMI', (df['bmi'].median()))"
      ],
      "execution_count": null,
      "outputs": []
    },
    {
      "cell_type": "code",
      "metadata": {
        "id": "vkMjfLay7x9A",
        "colab_type": "code",
        "colab": {}
      },
      "source": [
        "def bmi(x):\n",
        "  if x >= df['bmi'].median():\n",
        "    return 1\n",
        "  return 0"
      ],
      "execution_count": null,
      "outputs": []
    },
    {
      "cell_type": "code",
      "metadata": {
        "id": "X-SzPEkI-9Zk",
        "colab_type": "code",
        "colab": {}
      },
      "source": [
        "def "
      ],
      "execution_count": null,
      "outputs": []
    }
  ]
}