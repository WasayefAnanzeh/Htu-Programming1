{
  "nbformat": 4,
  "nbformat_minor": 0,
  "metadata": {
    "colab": {
      "name": "Linear regression + Model evaluation.ipynb",
      "provenance": [],
      "include_colab_link": true
    },
    "kernelspec": {
      "name": "python3",
      "display_name": "Python 3"
    }
  },
  "cells": [
    {
      "cell_type": "markdown",
      "metadata": {
        "id": "view-in-github",
        "colab_type": "text"
      },
      "source": [
        "<a href=\"https://colab.research.google.com/github/WasayefAnanzeh/Htu-Programming1/blob/master/Linear_regression_%2B_Model_evaluation9.ipynb\" target=\"_parent\"><img src=\"https://colab.research.google.com/assets/colab-badge.svg\" alt=\"Open In Colab\"/></a>"
      ]
    },
    {
      "cell_type": "markdown",
      "metadata": {
        "id": "L8mfUzEn7woZ",
        "colab_type": "text"
      },
      "source": [
        "**Simple Regression**\n"
      ]
    },
    {
      "cell_type": "code",
      "metadata": {
        "id": "MpVnuW3Q70XD",
        "colab_type": "code",
        "colab": {}
      },
      "source": [
        "import pandas as pd\n",
        "import math\n",
        "from sklearn.linear_model import LinearRegression"
      ],
      "execution_count": null,
      "outputs": []
    },
    {
      "cell_type": "code",
      "metadata": {
        "id": "VWtlVGS-9Gfs",
        "colab_type": "code",
        "colab": {
          "base_uri": "https://localhost:8080/",
          "height": 34
        },
        "outputId": "809440d9-98ff-46b2-e6fe-405051580daa"
      },
      "source": [
        "df = pd.read_csv('boston.csv') #Reads csv file.\n",
        "df.shape #Gets the number os rows and columns in the csv file."
      ],
      "execution_count": null,
      "outputs": [
        {
          "output_type": "execute_result",
          "data": {
            "text/plain": [
              "(113, 84)"
            ]
          },
          "metadata": {
            "tags": []
          },
          "execution_count": 25
        }
      ]
    },
    {
      "cell_type": "code",
      "metadata": {
        "id": "JMNLqh7V-0D5",
        "colab_type": "code",
        "colab": {
          "base_uri": "https://localhost:8080/",
          "height": 296
        },
        "outputId": "6e13fa7c-f633-44e9-810b-a531032fbfe5"
      },
      "source": [
        "df.plot.scatter(x='GrLivArea',y='SalePrice',c='red') #Plots a scatter graph with 'GrLivArea' as the x axis and 'SalePrice' as the y axis."
      ],
      "execution_count": null,
      "outputs": [
        {
          "output_type": "execute_result",
          "data": {
            "text/plain": [
              "<matplotlib.axes._subplots.AxesSubplot at 0x7f0101d00780>"
            ]
          },
          "metadata": {
            "tags": []
          },
          "execution_count": 26
        },
        {
          "output_type": "display_data",
          "data": {
            "image/png": "[encoded data removed]",
            "text/plain": [
              "<Figure size 432x288 with 1 Axes>"
            ]
          },
          "metadata": {
            "tags": [],
            "needs_background": "light"
          }
        }
      ]
    },
    {
      "cell_type": "markdown",
      "metadata": {
        "id": "2CcSWqoPAsZ1",
        "colab_type": "text"
      },
      "source": [
        "**Define X and Y**\n"
      ]
    },
    {
      "cell_type": "code",
      "metadata": {
        "id": "5DQ8kq6AAvXa",
        "colab_type": "code",
        "colab": {
          "base_uri": "https://localhost:8080/",
          "height": 34
        },
        "outputId": "6feb412a-fe44-4950-a6c0-b38be7fddb02"
      },
      "source": [
        "x = df[['GrLivArea']] #Defining the x axis\n",
        "y = df['SalePrice'] #Defining the y axis\n",
        "print(y.mean()) #Printing the mean "
      ],
      "execution_count": null,
      "outputs": [
        {
          "output_type": "stream",
          "text": [
            "128225.30088495575\n"
          ],
          "name": "stdout"
        }
      ]
    },
    {
      "cell_type": "markdown",
      "metadata": {
        "id": "aMfRepSICJQ7",
        "colab_type": "text"
      },
      "source": [
        "**Define and fit Linear Regression Model**\n"
      ]
    },
    {
      "cell_type": "code",
      "metadata": {
        "id": "DIPfknYVA8yY",
        "colab_type": "code",
        "colab": {
          "base_uri": "https://localhost:8080/",
          "height": 69
        },
        "outputId": "16f65ab3-1ba3-46e5-8703-98670996fe73"
      },
      "source": [
        "lin_reg = LinearRegression() #Assigning a shorter variable name for the Linear Regression function\n",
        "lin_reg.fit(x,y) #fitting x and y into a linear regression model\n",
        "print(lin_reg.coef_) #Prints the gradient (coefficient of x)\n",
        "print(lin_reg.intercept_) #Prints the Y intercept\n",
        "from sklearn.metrics import mean_squared_error\n",
        "y_predictions = lin_reg.predict(x) #Predicts the value of y according to the value of x\n",
        "error = mean_squared_error(y,y_predictions) #Calculates the mean square error using the y value and the prediction of the y value\n",
        "root_mean_squared_error = math.sqrt(error) #Retrieves the square root of the mean squrare error\n",
        "print('mean squared error = ',root_mean_squared_error) "
      ],
      "execution_count": null,
      "outputs": [
        {
          "output_type": "stream",
          "text": [
            "[63.44649977]\n",
            "34341.886897540855\n",
            "mean squared error =  37675.98820693485\n"
          ],
          "name": "stdout"
        }
      ]
    },
    {
      "cell_type": "markdown",
      "metadata": {
        "id": "JLigdlN_EkJR",
        "colab_type": "text"
      },
      "source": [
        "**Model Evaluation**"
      ]
    },
    {
      "cell_type": "code",
      "metadata": {
        "id": "u1AD9x20En8F",
        "colab_type": "code",
        "colab": {
          "base_uri": "https://localhost:8080/",
          "height": 51
        },
        "outputId": "a5a0e420-1616-4e82-daf6-3093178a65c4"
      },
      "source": [
        "model_pred = lin_reg.predict(x) \n",
        "print(mean_squared_error(y,model_pred))\n",
        "print(math.sqrt(mean_squared_error(y,model_pred)))"
      ],
      "execution_count": null,
      "outputs": [
        {
          "output_type": "stream",
          "text": [
            "1419480087.369094\n",
            "37675.98820693485\n"
          ],
          "name": "stdout"
        }
      ]
    }
  ]
}