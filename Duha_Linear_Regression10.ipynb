{
  "nbformat": 4,
  "nbformat_minor": 0,
  "metadata": {
    "colab": {
      "name": "Duha - Linear Regression.ipynb",
      "provenance": [],
      "include_colab_link": true
    },
    "kernelspec": {
      "name": "python3",
      "display_name": "Python 3"
    }
  },
  "cells": [
    {
      "cell_type": "markdown",
      "metadata": {
        "id": "view-in-github",
        "colab_type": "text"
      },
      "source": [
        "<a href=\"https://colab.research.google.com/github/WasayefAnanzeh/Htu-Programming1/blob/master/Duha_Linear_Regression10.ipynb\" target=\"_parent\"><img src=\"https://colab.research.google.com/assets/colab-badge.svg\" alt=\"Open In Colab\"/></a>"
      ]
    },
    {
      "cell_type": "code",
      "metadata": {
        "id": "cFfuzLmBCFaO",
        "colab_type": "code",
        "colab": {}
      },
      "source": [
        "import pandas as pd\n",
        "import math\n",
        "from sklearn.linear_model import LinearRegression\n",
        "from sklearn.metrics import mean_squared_error"
      ],
      "execution_count": null,
      "outputs": []
    },
    {
      "cell_type": "markdown",
      "metadata": {
        "id": "aZSL_2j6EIJM",
        "colab_type": "text"
      },
      "source": [
        "**Importing csv file**"
      ]
    },
    {
      "cell_type": "code",
      "metadata": {
        "id": "pE0sT_vYCsSK",
        "colab_type": "code",
        "colab": {
          "base_uri": "https://localhost:8080/",
          "height": 69
        },
        "outputId": "57afbcf3-af19-4963-bffe-d25daeb5af60"
      },
      "source": [
        "df = pd.read_csv('povrty.csv', sep='\\t') #Reads csv file and divides it into seperate columns\n",
        "print(df.columns)"
      ],
      "execution_count": null,
      "outputs": [
        {
          "output_type": "stream",
          "text": [
            "Index(['Location', 'PovPct', 'Brth15to17', 'Brth18to19', 'ViolCrime',\n",
            "       'TeenBrth'],\n",
            "      dtype='object')\n"
          ],
          "name": "stdout"
        }
      ]
    },
    {
      "cell_type": "markdown",
      "metadata": {
        "id": "5KbDs-PXEs2j",
        "colab_type": "text"
      },
      "source": [
        "**Plotting scatter model relating teen birth to poverty rate (MODEL 1)**"
      ]
    },
    {
      "cell_type": "code",
      "metadata": {
        "id": "POLXD5A0LYvQ",
        "colab_type": "code",
        "colab": {}
      },
      "source": [
        "x = df[['PovPct']]\n",
        "y = df['TeenBrth']"
      ],
      "execution_count": null,
      "outputs": []
    },
    {
      "cell_type": "code",
      "metadata": {
        "id": "ri0lvTcvDyLx",
        "colab_type": "code",
        "colab": {
          "base_uri": "https://localhost:8080/",
          "height": 331
        },
        "outputId": "97cc0b75-d79e-46d0-b597-0ce29d598cd3"
      },
      "source": [
        "df.plot.scatter(x='PovPct',y='TeenBrth',c='blue') #Plots a scatter graph with 'PovPct' as the x axis and 'TeenBirth' as the y axis.\n",
        "LRG = LinearRegression()\n",
        "LRG.fit(x,y) #fitting x and y into a linear regression model\n",
        "print(LRG.coef_) #Prints the gradient (coefficient of x)\n",
        "print(LRG.intercept_) #Prints the Y intercept\n",
        "TeenBirth_prediction = LRG.predict(x) #Predicts the value of y according to the value of x\n",
        "error = mean_squared_error(y,TeenBirth_prediction) #Calculates the mean square error using the y value and the prediction of the y value\n",
        "root_mean_squared_error = math.sqrt(error) #Retrieves the square root of the mean squrare error\n",
        "print('mean squared error = ',root_mean_squared_error) "
      ],
      "execution_count": null,
      "outputs": [
        {
          "output_type": "stream",
          "text": [
            "[2.0254751]\n",
            "15.673669794544377\n",
            "mean squared error =  8.671050796893702\n"
          ],
          "name": "stdout"
        },
        {
          "output_type": "display_data",
          "data": {
            "image/png": "[encoded data removed]",
            "text/plain": [
              "<Figure size 432x288 with 1 Axes>"
            ]
          },
          "metadata": {
            "tags": [],
            "needs_background": "light"
          }
        }
      ]
    },
    {
      "cell_type": "markdown",
      "metadata": {
        "id": "KG9jyS6PG9-0",
        "colab_type": "text"
      },
      "source": [
        "**Scatter model predicting crime rate using poverty factor (Model 2)**"
      ]
    },
    {
      "cell_type": "code",
      "metadata": {
        "id": "WcrZnsGyK_t7",
        "colab_type": "code",
        "colab": {}
      },
      "source": [
        "x = df[['PovPct']]\n",
        "y = df['ViolCrime']"
      ],
      "execution_count": null,
      "outputs": []
    },
    {
      "cell_type": "code",
      "metadata": {
        "id": "eSW0vdvvHHZE",
        "colab_type": "code",
        "colab": {
          "base_uri": "https://localhost:8080/",
          "height": 331
        },
        "outputId": "3054b7fd-5925-4e19-b931-b8662f3316ec"
      },
      "source": [
        "LRG = LinearRegression()\n",
        "df.plot.scatter(x='PovPct',y='ViolCrime',c='red')\n",
        "LRG.fit(x,y) #fitting x and y into a linear regression model\n",
        "print(LRG.coef_) #Prints the gradient (coefficient of x)\n",
        "print(LRG.intercept_) #Prints the Y intercept\n",
        "Crime_rate_prediction = LRG.predict(x) #Predicts the value of y according to the value of x\n",
        "error = mean_squared_error(y,Crime_rate_prediction) #Calculates the mean square error using the y value and the prediction of the y value\n",
        "root_mean_squared_error = math.sqrt(error) #Retrieves the square root of the mean squrare error\n",
        "print('mean squared error = ',root_mean_squared_error) "
      ],
      "execution_count": null,
      "outputs": [
        {
          "output_type": "stream",
          "text": [
            "[0.97861288]\n",
            "-4.982196390936709\n",
            "mean squared error =  7.792732672946304\n"
          ],
          "name": "stdout"
        },
        {
          "output_type": "display_data",
          "data": {
            "image/png": "[encoded data removed]",
            "text/plain": [
              "<Figure size 432x288 with 1 Axes>"
            ]
          },
          "metadata": {
            "tags": [],
            "needs_background": "light"
          }
        }
      ]
    },
    {
      "cell_type": "markdown",
      "metadata": {
        "id": "I5KS3aFRJ2cX",
        "colab_type": "text"
      },
      "source": [
        "# **Which model is more reliable?**\n"
      ]
    },
    {
      "cell_type": "markdown",
      "metadata": {
        "id": "cIoSS-nVJ-QG",
        "colab_type": "text"
      },
      "source": [
        "**Model 1.**   Teen birth vs. Poverty - MSE: 8.67\n",
        "\n",
        "**Model 2.**   Crime rate vs. Poverty - MSE: 7.79\n",
        "\n",
        "In model 1, the MSE is 8.67 while in Model 2, the MSE is 7.79 which indicates that model 2 has a lower mean squared error meaning that model 2 is more reliable."
      ]
    }
  ]
}