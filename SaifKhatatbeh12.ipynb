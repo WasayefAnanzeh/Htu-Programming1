{
  "nbformat": 4,
  "nbformat_minor": 0,
  "metadata": {
    "colab": {
      "name": "SaifKhatatbeh7.ipynb",
      "provenance": [],
      "collapsed_sections": [],
      "include_colab_link": true
    },
    "kernelspec": {
      "name": "python3",
      "display_name": "Python 3"
    }
  },
  "cells": [
    {
      "cell_type": "markdown",
      "metadata": {
        "id": "view-in-github",
        "colab_type": "text"
      },
      "source": [
        "<a href=\"https://colab.research.google.com/github/WasayefAnanzeh/Htu-Programming1/blob/master/SaifKhatatbeh12.ipynb\" target=\"_parent\"><img src=\"https://colab.research.google.com/assets/colab-badge.svg\" alt=\"Open In Colab\"/></a>"
      ]
    },
    {
      "cell_type": "code",
      "metadata": {
        "id": "JSSlpeR5DIac",
        "colab_type": "code",
        "colab": {}
      },
      "source": [
        "import pandas as pd\n",
        "import matplotlib.pyplot as plt\n",
        "from sklearn.cluster import KMeans\n",
        "\n",
        "dataset = pd.read_csv('Mall_Customers.csv')\n",
        "X = dataset[['Anunual Income (k$)','Spending Score (1-100)']].values\n",
        "\n",
        "wcss = []\n",
        "\n",
        "kmeanmodel = KMeans(n_clusters=5, random_state=0)\n",
        "y_means = kmeanmodel.fit_predict(X)\n",
        "\n",
        "plt.scatter(kmeanmodel.n_clusters)"
      ],
      "execution_count": null,
      "outputs": []
    }
  ]
}