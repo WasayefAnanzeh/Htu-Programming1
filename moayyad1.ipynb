{
  "nbformat": 4,
  "nbformat_minor": 0,
  "metadata": {
    "colab": {
      "name": "moayyad1.ipynb",
      "provenance": [],
      "collapsed_sections": [],
      "include_colab_link": true
    },
    "kernelspec": {
      "name": "python3",
      "display_name": "Python 3"
    }
  },
  "cells": [
    {
      "cell_type": "markdown",
      "metadata": {
        "id": "view-in-github",
        "colab_type": "text"
      },
      "source": [
        "<a href=\"https://colab.research.google.com/github/WasayefAnanzeh/Htu-Programming1/blob/master/moayyad1.ipynb\" target=\"_parent\"><img src=\"https://colab.research.google.com/assets/colab-badge.svg\" alt=\"Open In Colab\"/></a>"
      ]
    },
    {
      "cell_type": "code",
      "metadata": {
        "id": "nOuaRUALDEGh",
        "colab_type": "code",
        "colab": {}
      },
      "source": [
        "import pandas as pd "
      ],
      "execution_count": null,
      "outputs": []
    },
    {
      "cell_type": "code",
      "metadata": {
        "id": "aoNAa7TF7Gxf",
        "colab_type": "code",
        "colab": {
          "base_uri": "https://localhost:8080/",
          "height": 170
        },
        "outputId": "6c851f7f-71c2-4a6d-a961-203e8c272646"
      },
      "source": [
        "df = pd.read_csv('train.csv')\n",
        "\n",
        "\n",
        "\n",
        "df = df[df['Neighborhood'] == 'OldTown'] # select only houses from neighborhood named OldTown\n",
        "\n",
        "\n",
        "\n",
        "\n",
        "\n",
        "print(df['SalePrice'].mean())\n",
        "print(df['SalePrice'].median())\n",
        "\n",
        "# group data by sale condition then find the mean\n",
        "df.groupby(by=['SaleCondition'])['SalePrice'].mean()\n",
        "df.groupby(by=['SaleCondition'])['SalePrice'].median()\n",
        "\n",
        "\n",
        "\n",
        "\n",
        "\n",
        "\n",
        "\n"
      ],
      "execution_count": null,
      "outputs": [
        {
          "output_type": "stream",
          "text": [
            "128225.30088495575\n",
            "119000.0\n"
          ],
          "name": "stdout"
        },
        {
          "output_type": "execute_result",
          "data": {
            "text/plain": [
              "SaleCondition\n",
              "Abnorml    101000\n",
              "Alloca      89471\n",
              "Family     116000\n",
              "Normal     122000\n",
              "Partial    114000\n",
              "Name: SalePrice, dtype: int64"
            ]
          },
          "metadata": {
            "tags": []
          },
          "execution_count": 11
        }
      ]
    }
  ]
}