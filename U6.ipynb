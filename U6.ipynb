{
  "nbformat": 4,
  "nbformat_minor": 0,
  "metadata": {
    "colab": {
      "name": "Untitled6.ipynb",
      "provenance": [],
      "toc_visible": true,
      "include_colab_link": true
    },
    "kernelspec": {
      "name": "python3",
      "display_name": "Python 3"
    }
  },
  "cells": [
    {
      "cell_type": "markdown",
      "metadata": {
        "id": "view-in-github",
        "colab_type": "text"
      },
      "source": [
        "<a href=\"https://colab.research.google.com/github/WasayefAnanzeh/Htu-Programming1/blob/master/U6.ipynb\" target=\"_parent\"><img src=\"https://colab.research.google.com/assets/colab-badge.svg\" alt=\"Open In Colab\"/></a>"
      ]
    },
    {
      "cell_type": "code",
      "metadata": {
        "id": "P9VE8UlWE4v1",
        "colab_type": "code",
        "colab": {
          "base_uri": "https://localhost:8080/",
          "height": 51
        },
        "outputId": "479cea04-9191-4bb8-9fb0-e6aafdbc3a5b"
      },
      "source": [
        "import pandas as pd # data manipulation \n",
        "import matplotlib.pyplot as plt # charts \n",
        "\n",
        "\n",
        "\n",
        "df = pd.read_csv('train.csv') # data frame from csv \n",
        "\n",
        "#df = df[df['Neighborhood'] == 'OldTown'] # filter neighborhood , select * where neighborhood is OldTown\n",
        "\n",
        "print(df['SalePrice'].mean())\n",
        "print(df['SalePrice'].median())\n",
        "\n",
        "\n",
        "df.groupby(by=['SaleCondition'])['SalePrice'].mean()\n",
        "df.groupby(by=['SaleCondition'])['SalePrice'].median()\n",
        "\n",
        "grouped_df = df.groupby(by=['Neighborhood'], as_index=False).mean()\n",
        "\n",
        "#grouped_df['Sale']\n",
        "sorted_df = grouped_df.sort_values(by=['SalePrice'], ascending=False) # select Neighborhood,max(SalePrice) from table\n",
        "                                                                       # select * from table order by (salePrice) limit 2  <----\n",
        "\n",
        "\n",
        "                          \n"
      ],
      "execution_count": null,
      "outputs": [
        {
          "output_type": "stream",
          "text": [
            "180921.19589041095\n",
            "163000.0\n"
          ],
          "name": "stdout"
        }
      ]
    },
    {
      "cell_type": "code",
      "metadata": {
        "id": "y9jpwnE9MJtQ",
        "colab_type": "code",
        "colab": {
          "base_uri": "https://localhost:8080/",
          "height": 268
        },
        "outputId": "4af7fa1b-19bd-442a-c513-9c7672418bf3"
      },
      "source": [
        "grouped_df = grouped_df.sample(5)\n",
        "\n",
        "xs = grouped_df['Neighborhood']\n",
        "ys = grouped_df['SalePrice']\n",
        "plt.bar(xs, ys)\n",
        "plt.show()\n"
      ],
      "execution_count": null,
      "outputs": [
        {
          "output_type": "display_data",
          "data": {
            "image/png": "[encoded data removed]",
            "text/plain": [
              "<Figure size 432x288 with 1 Axes>"
            ]
          },
          "metadata": {
            "tags": []
          }
        }
      ]
    }
  ]
}